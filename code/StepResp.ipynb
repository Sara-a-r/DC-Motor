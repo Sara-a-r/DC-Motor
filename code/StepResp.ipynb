{
 "cells": [
  {
   "cell_type": "code",
   "execution_count": 9,
   "id": "b421e00e",
   "metadata": {},
   "outputs": [],
   "source": [
    "#import the modules that I will require\n",
    "import os\n",
    "import numpy as np\n",
    "\n",
    "import scipy\n",
    "from scipy import signal\n",
    "\n",
    "import control as ct\n",
    "#from scipy.optimize import curve_fit\n",
    "\n",
    "import pylab as pyl\n",
    "import matplotlib.pyplot as plt\n",
    "%matplotlib inline"
   ]
  },
  {
   "cell_type": "code",
   "execution_count": 10,
   "id": "7684d984",
   "metadata": {},
   "outputs": [],
   "source": [
    "#Setup the main directories using the environ dir\n",
    "#Define the various directories\n",
    "script_dir = os.getcwd()\n",
    "\n",
    "#using dirname you can go up of one directory\n",
    "main_dir = os.path.dirname(script_dir)\n",
    "\n",
    "#then use join to define variables pointing to subdirectories\n",
    "data_dir = os.path.join(main_dir,\"code\")\n",
    "\n",
    "#define an output directory with the results\n",
    "results_dir = os.path.join(main_dir,\"figure\")\n",
    "\n",
    "#if the directory does not exist create it\n",
    "if not os.path.exists(results_dir):\n",
    "    os.mkdir(results_dir)"
   ]
  },
  {
   "cell_type": "code",
   "execution_count": 11,
   "id": "d45475df",
   "metadata": {},
   "outputs": [],
   "source": [
    "#set the parameters\n",
    "J = 0.01\n",
    "b = 0.001\n",
    "Kt = 1\n",
    "Ke = 1\n",
    "R = 10\n",
    "L = 1"
   ]
  },
  {
   "cell_type": "code",
   "execution_count": 12,
   "id": "e5c0595c",
   "metadata": {},
   "outputs": [],
   "source": [
    "#define the transfer function\n",
    "# H = Kt / s * ((J*s+b)*(L*s+R)+Ke*Kt)\n",
    "# H = 100 / (s**3 + 10.1*s**2 + 101*s)\n",
    "\n",
    "num = (0,0,0,100)\n",
    "den = (1,10.1,101,0)"
   ]
  },
  {
   "cell_type": "code",
   "execution_count": 13,
   "id": "82998920",
   "metadata": {},
   "outputs": [
    {
     "name": "stdout",
     "output_type": "stream",
     "text": [
      "Zeros: []\n",
      "Poles: [-5.05+8.68892974j -5.05-8.68892974j  0.  +0.j        ]\n",
      "gain: 100.0\n"
     ]
    }
   ],
   "source": [
    "#compute zeros and poles and gain using scipy\n",
    "a = scipy.signal.tf2zpk(num, den)\n",
    "zeros = a[0]\n",
    "poles = a[1]\n",
    "gain = a[2]\n",
    "\n",
    "print(f\"Zeros: {zeros}\")\n",
    "print(f\"Poles: {poles}\")\n",
    "print(f\"gain: {gain}\")"
   ]
  },
  {
   "cell_type": "code",
   "execution_count": 14,
   "id": "daa7f02c",
   "metadata": {},
   "outputs": [],
   "source": [
    "#define the transfer function\n",
    "# H_thetaDot = Kt / ((J*s+b)*(L*s+R)+Ke*Kt)\n",
    "\n",
    "# H_thetaDot(s) =  100 / (s**2+10.1*s+101)\n",
    "\n",
    "num1 = (0,0,100)\n",
    "den1 = (1,10.1,101)"
   ]
  },
  {
   "cell_type": "code",
   "execution_count": 15,
   "id": "ef9ac326",
   "metadata": {},
   "outputs": [
    {
     "name": "stdout",
     "output_type": "stream",
     "text": [
      "Zeros: []\n",
      "Poles: [-5.05+8.68892974j -5.05-8.68892974j]\n",
      "gain: 100.0\n"
     ]
    }
   ],
   "source": [
    "#compute zeros and poles and gain using scipy\n",
    "a1 = scipy.signal.tf2zpk(num1, den1)\n",
    "zeros1 = a1[0]\n",
    "poles1 = a1[1]\n",
    "gain1 = a1[2]\n",
    "\n",
    "print(f\"Zeros: {zeros1}\")\n",
    "print(f\"Poles: {poles1}\")\n",
    "print(f\"gain: {gain1}\")"
   ]
  },
  {
   "cell_type": "code",
   "execution_count": 16,
   "id": "9a898efe",
   "metadata": {},
   "outputs": [],
   "source": [
    "#define Laplace variable\n",
    "s = ct.TransferFunction.s\n",
    "#define the transfer function\n",
    "sys = 100 / (s**2+10.1*s+101)\n",
    "\n",
    "#compute the step response for a unit-step command in v_a\n",
    "t = np.linspace(0,5,1000) #define time vector\n",
    "time, step_resp = ct.step_response(sys, T=t)"
   ]
  },
  {
   "cell_type": "code",
   "execution_count": 19,
   "id": "8af2aecf",
   "metadata": {},
   "outputs": [
    {
     "data": {
      "image/png": "[encoded data removed]",
      "text/plain": [
       "<Figure size 640x480 with 1 Axes>"
      ]
     },
     "metadata": {},
     "output_type": "display_data"
    }
   ],
   "source": [
    "#plot the step response\n",
    "plt.title('Transient response for DC motor')\n",
    "plt.xlabel('Time [s]')\n",
    "plt.ylabel('$\\omega$ [rad/s]')\n",
    "plt.grid(True)\n",
    "plt.minorticks_on()\n",
    "plt.plot(time, step_resp, linestyle = '-',linewidth = 1.5, marker = '')\n",
    "\n",
    "#save the plot in the results dir\n",
    "out_name = os.path.join(results_dir,\"StepResp.png\")\n",
    "plt.savefig(out_name)\n",
    "plt.show()"
   ]
  },
  {
   "cell_type": "code",
   "execution_count": null,
   "id": "4e731855",
   "metadata": {},
   "outputs": [],
   "source": []
  }
 ],
 "metadata": {
  "kernelspec": {
   "display_name": "Python 3 (ipykernel)",
   "language": "python",
   "name": "python3"
  },
  "language_info": {
   "codemirror_mode": {
    "name": "ipython",
    "version": 3
   },
   "file_extension": ".py",
   "mimetype": "text/x-python",
   "name": "python",
   "nbconvert_exporter": "python",
   "pygments_lexer": "ipython3",
   "version": "3.10.7"
  }
 },
 "nbformat": 4,
 "nbformat_minor": 5
}
