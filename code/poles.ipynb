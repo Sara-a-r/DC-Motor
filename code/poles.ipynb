{
 "cells": [
  {
   "cell_type": "code",
   "execution_count": 2,
   "id": "b421e00e",
   "metadata": {},
   "outputs": [],
   "source": [
    "import scipy\n",
    "from scipy import signal\n",
    "import numpy as np"
   ]
  },
  {
   "cell_type": "code",
   "execution_count": 3,
   "id": "d45475df",
   "metadata": {},
   "outputs": [],
   "source": [
    "#set the parameters\n",
    "J = 0.01\n",
    "b = 0.001\n",
    "Kt = 1\n",
    "Ke = 1\n",
    "\n",
    "R = 10\n",
    "L = 1"
   ]
  },
  {
   "cell_type": "code",
   "execution_count": 4,
   "id": "e5c0595c",
   "metadata": {},
   "outputs": [],
   "source": [
    "#define the transfer function\n",
    "# H = Kt / s * ((J*s+b)*(L*s+R)+Ke*Kt)\n",
    "# H = 100 / (s**3 + 10.1*s**2 + 101*s)\n",
    "\n",
    "num = (0,0,0,100)\n",
    "den = (1,10.1,101,0)"
   ]
  },
  {
   "cell_type": "code",
   "execution_count": 5,
   "id": "82998920",
   "metadata": {},
   "outputs": [
    {
     "name": "stdout",
     "output_type": "stream",
     "text": [
      "Zeros: []\n",
      "Poles: [-5.05+8.68892974j -5.05-8.68892974j  0.  +0.j        ]\n",
      "gain: 100.0\n"
     ]
    },
    {
     "name": "stderr",
     "output_type": "stream",
     "text": [
      "/usr/lib/python3/dist-packages/scipy/signal/_filter_design.py:1709: BadCoefficients: Badly conditioned filter coefficients (numerator): the results may be meaningless\n",
      "  warnings.warn(\"Badly conditioned filter coefficients (numerator): the \"\n"
     ]
    }
   ],
   "source": [
    "#compute zeros and poles and gain using scipy\n",
    "a = scipy.signal.tf2zpk(num, den)\n",
    "zeros = a[0]\n",
    "poles = a[1]\n",
    "gain = a[2]\n",
    "\n",
    "print(f\"Zeros: {zeros}\")\n",
    "print(f\"Poles: {poles}\")\n",
    "print(f\"gain: {gain}\")"
   ]
  },
  {
   "cell_type": "code",
   "execution_count": 6,
   "id": "daa7f02c",
   "metadata": {},
   "outputs": [],
   "source": [
    "#define the transfer function\n",
    "# H_thetaDot = Kt / ((J*s+b)*(L*s+R)+Ke*Kt)\n",
    "\n",
    "# H_thetaDot(s) =  100 / (s**2+10.1*s+101)\n",
    "\n",
    "num1 = (0,0,100)\n",
    "den1 = (1,10.1,101)"
   ]
  },
  {
   "cell_type": "code",
   "execution_count": 7,
   "id": "ef9ac326",
   "metadata": {},
   "outputs": [
    {
     "name": "stdout",
     "output_type": "stream",
     "text": [
      "Zeros: []\n",
      "Poles: [-5.05+8.68892974j -5.05-8.68892974j]\n",
      "gain: 100.0\n"
     ]
    }
   ],
   "source": [
    "#compute zeros and poles and gain using scipy\n",
    "a1 = scipy.signal.tf2zpk(num1, den1)\n",
    "zeros1 = a1[0]\n",
    "poles1 = a1[1]\n",
    "gain1 = a1[2]\n",
    "\n",
    "print(f\"Zeros: {zeros1}\")\n",
    "print(f\"Poles: {poles1}\")\n",
    "print(f\"gain: {gain1}\")"
   ]
  },
  {
   "cell_type": "code",
   "execution_count": 8,
   "id": "d88c500e",
   "metadata": {},
   "outputs": [
    {
     "name": "stdout",
     "output_type": "stream",
     "text": [
      "[[ -10.1 -101.    -0. ]\n",
      " [   1.     0.     0. ]\n",
      " [   0.     1.     0. ]]\n",
      "[[1.]\n",
      " [0.]\n",
      " [0.]]\n",
      "[[  0.   0. 100.]]\n",
      "[[0.]]\n"
     ]
    }
   ],
   "source": [
    "# let's see some others useful functions of scipy\n",
    "\n",
    "num = (0,0,0,100)\n",
    "den = (1,10.1,101,0)\n",
    "\n",
    "#this function return the matrix of the state-space representation\n",
    "A, B, C, D = scipy.signal.tf2ss(num, den)\n",
    "\n",
    "print(A)\n",
    "print(B)\n",
    "print(C)\n",
    "print(D)"
   ]
  },
  {
   "cell_type": "code",
   "execution_count": 51,
   "id": "568af2b1",
   "metadata": {},
   "outputs": [
    {
     "name": "stdout",
     "output_type": "stream",
     "text": [
      "Poles are :  [-5.05+8.68892974j -5.05-8.68892974j  0.  +0.j        ]\n"
     ]
    },
    {
     "ename": "ValueError",
     "evalue": "Input must be a rank-1 array.",
     "output_type": "error",
     "traceback": [
      "\u001b[0;31m---------------------------------------------------------------------------\u001b[0m",
      "\u001b[0;31mValueError\u001b[0m                                Traceback (most recent call last)",
      "Cell \u001b[0;32mIn [51], line 19\u001b[0m\n\u001b[1;32m     17\u001b[0m poles \u001b[38;5;241m=\u001b[39m np\u001b[38;5;241m.\u001b[39mroots(den_coeff)\n\u001b[1;32m     18\u001b[0m \u001b[38;5;28mprint\u001b[39m(\u001b[38;5;124m\"\u001b[39m\u001b[38;5;124mPoles are : \u001b[39m\u001b[38;5;124m\"\u001b[39m, poles)\n\u001b[0;32m---> 19\u001b[0m zeros \u001b[38;5;241m=\u001b[39m \u001b[43mnp\u001b[49m\u001b[38;5;241;43m.\u001b[39;49m\u001b[43mroots\u001b[49m\u001b[43m(\u001b[49m\u001b[43mnum_coeff\u001b[49m\u001b[43m)\u001b[49m\n\u001b[1;32m     20\u001b[0m \u001b[38;5;28mprint\u001b[39m(\u001b[38;5;124m\"\u001b[39m\u001b[38;5;124mZeros are: \u001b[39m\u001b[38;5;124m\"\u001b[39m , zeros)\n",
      "File \u001b[0;32m<__array_function__ internals>:180\u001b[0m, in \u001b[0;36mroots\u001b[0;34m(*args, **kwargs)\u001b[0m\n",
      "File \u001b[0;32m~/.local/lib/python3.10/site-packages/numpy/lib/polynomial.py:230\u001b[0m, in \u001b[0;36mroots\u001b[0;34m(p)\u001b[0m\n\u001b[1;32m    228\u001b[0m p \u001b[38;5;241m=\u001b[39m atleast_1d(p)\n\u001b[1;32m    229\u001b[0m \u001b[38;5;28;01mif\u001b[39;00m p\u001b[38;5;241m.\u001b[39mndim \u001b[38;5;241m!=\u001b[39m \u001b[38;5;241m1\u001b[39m:\n\u001b[0;32m--> 230\u001b[0m     \u001b[38;5;28;01mraise\u001b[39;00m \u001b[38;5;167;01mValueError\u001b[39;00m(\u001b[38;5;124m\"\u001b[39m\u001b[38;5;124mInput must be a rank-1 array.\u001b[39m\u001b[38;5;124m\"\u001b[39m)\n\u001b[1;32m    232\u001b[0m \u001b[38;5;66;03m# find non-zero array entries\u001b[39;00m\n\u001b[1;32m    233\u001b[0m non_zero \u001b[38;5;241m=\u001b[39m NX\u001b[38;5;241m.\u001b[39mnonzero(NX\u001b[38;5;241m.\u001b[39mravel(p))[\u001b[38;5;241m0\u001b[39m]\n",
      "\u001b[0;31mValueError\u001b[0m: Input must be a rank-1 array."
     ]
    }
   ],
   "source": [
    "#Parameters of the system\n",
    "J = 0.01    #rotor's inertia [kg m^2]\n",
    "b = 0.001   #viscous friction coefficient [N m s]\n",
    "Kt = 1      #torque constant\n",
    "Ke = 1      #electric constant\n",
    "R = 10      #resistance [Ohm]\n",
    "L = 1       #inductance [H]\n",
    "\n",
    "#matrix of the system\n",
    "A = [[-b / J, Kt / J, 0], [-Ke / L, -R / L, 0], [1, 0, 0]]\n",
    "B = [[0], [1 / L], [0]]\n",
    "C = [[0, 0, 1]]\n",
    "D = 0\n",
    "\n",
    "num_coeff, den_coeff = scipy.signal.ss2tf(A, B, C, D)\n",
    "\n",
    "poles = np.roots(den_coeff)\n",
    "print(\"Poles are : \", poles)\n",
    "zeros = np.roots(num_coeff)\n",
    "print(\"Zeros are: \" , zeros)"
   ]
  },
  {
   "cell_type": "code",
   "execution_count": 34,
   "id": "073b2723",
   "metadata": {},
   "outputs": [],
   "source": [
    "def det(p, A):\n",
    "    dim = len(A)    #matrix dimension\n",
    "    Id = np.identity(dim)\n",
    "    return np.linalg.det(p*Id-A)"
   ]
  },
  {
   "cell_type": "code",
   "execution_count": 45,
   "id": "2abe11e8",
   "metadata": {},
   "outputs": [
    {
     "ename": "TypeError",
     "evalue": "dispatcher for __array_function__ did not return an iterable",
     "output_type": "error",
     "traceback": [
      "\u001b[0;31m---------------------------------------------------------------------------\u001b[0m",
      "\u001b[0;31mTypeError\u001b[0m                                 Traceback (most recent call last)",
      "Cell \u001b[0;32mIn [45], line 8\u001b[0m\n\u001b[1;32m      6\u001b[0m det \u001b[38;5;241m=\u001b[39m \u001b[38;5;28;01mlambda\u001b[39;00m p : np\u001b[38;5;241m.\u001b[39mlinalg\u001b[38;5;241m.\u001b[39mdet(p\u001b[38;5;241m*\u001b[39mId\u001b[38;5;241m-\u001b[39mA)\n\u001b[1;32m      7\u001b[0m \u001b[38;5;66;03m# Utilizziamo la funzione root di Scipy per trovare le radici della funzione\u001b[39;00m\n\u001b[0;32m----> 8\u001b[0m res \u001b[38;5;241m=\u001b[39m \u001b[43mnp\u001b[49m\u001b[38;5;241;43m.\u001b[39;49m\u001b[43mroots\u001b[49m\u001b[43m(\u001b[49m\u001b[43mdet\u001b[49m\u001b[43m)\u001b[49m  \u001b[38;5;66;03m# passiamo un array di valori di partenza\u001b[39;00m\n\u001b[1;32m     10\u001b[0m \u001b[38;5;66;03m# Stampa le radici trovate\u001b[39;00m\n\u001b[1;32m     11\u001b[0m \u001b[38;5;28;01mif\u001b[39;00m res\u001b[38;5;241m.\u001b[39msuccess:\n",
      "File \u001b[0;32m<__array_function__ internals>:180\u001b[0m, in \u001b[0;36mroots\u001b[0;34m(*args, **kwargs)\u001b[0m\n",
      "\u001b[0;31mTypeError\u001b[0m: dispatcher for __array_function__ did not return an iterable"
     ]
    }
   ],
   "source": [
    "from scipy.optimize import root\n",
    "import numpy as np\n",
    "\n",
    "dim = len(A)    #matrix dimension\n",
    "Id = np.identity(dim)\n",
    "det = lambda p : np.linalg.det(p*Id-A)\n",
    "\n",
    "res = np.roots(det)\n",
    "\n",
    "# Stampa le radici trovate\n",
    "if res.success:\n",
    "    print(\"Le radici sono: \", res.x)\n",
    "else:\n",
    "    print(\"Non è stata trovata alcuna radice.\")\n"
   ]
  }
 ],
 "metadata": {
  "kernelspec": {
   "display_name": "Python 3 (ipykernel)",
   "language": "python",
   "name": "python3"
  },
  "language_info": {
   "codemirror_mode": {
    "name": "ipython",
    "version": 3
   },
   "file_extension": ".py",
   "mimetype": "text/x-python",
   "name": "python",
   "nbconvert_exporter": "python",
   "pygments_lexer": "ipython3",
   "version": "3.10.7"
  }
 },
 "nbformat": 4,
 "nbformat_minor": 5
}
